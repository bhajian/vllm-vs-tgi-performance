{
 "cells": [
  {
   "cell_type": "code",
   "execution_count": 19,
   "id": "2350a0ca-78e2-4d18-8559-5db50ad56de9",
   "metadata": {},
   "outputs": [
    {
     "name": "stdout",
     "output_type": "stream",
     "text": [
      "\n",
      "\u001b[1m[\u001b[0m\u001b[34;49mnotice\u001b[0m\u001b[1;39;49m]\u001b[0m\u001b[39;49m A new release of pip is available: \u001b[0m\u001b[31;49m24.2\u001b[0m\u001b[39;49m -> \u001b[0m\u001b[32;49m25.1.1\u001b[0m\n",
      "\u001b[1m[\u001b[0m\u001b[34;49mnotice\u001b[0m\u001b[1;39;49m]\u001b[0m\u001b[39;49m To update, run: \u001b[0m\u001b[32;49mpip install --upgrade pip\u001b[0m\n"
     ]
    }
   ],
   "source": [
    "!pip install -q --upgrade \"httpx[http2]\" tqdm pandas matplotlib datasets"
   ]
  },
  {
   "cell_type": "code",
   "execution_count": 15,
   "id": "882b5c47-cdb3-4265-8b16-c0d5ab86f985",
   "metadata": {},
   "outputs": [
    {
     "name": "stdout",
     "output_type": "stream",
     "text": [
      "\n",
      "🟢  https://llama3-vllm-vs-tgis.apps.cluster-jj67w.jj67w.sandbox1788.opentlc.com/v1/chat/completions\n",
      "Quantum entanglement is a phenomenon in which two or more particles become connected in\n",
      "such a way that their properties, such as spin or momentum, become correlated and can be\n",
      "instantaneously affected by actions on one particle, regardless of the distance between\n",
      "them.\n",
      "\n",
      "🟢  https://llama3-default.apps.cluster-jj67w.jj67w.sandbox1788.opentlc.com/v1/chat/completions\n",
      "Quantum entanglement is a phenomenon in which two or more particles become connected in\n",
      "such a way that their properties, such as position, momentum, or spin, become correlated\n",
      "and linked, regardless of the distance between them, allowing instantaneous information\n",
      "transfer.\n"
     ]
    }
   ],
   "source": [
    "import httpx, json, textwrap, warnings\n",
    "warnings.filterwarnings(\"ignore\", message=\"Unverified HTTPS\")\n",
    "\n",
    "VLLM_URL = \"https://llama3-vllm-vs-tgis.apps.cluster-jj67w.jj67w.sandbox1788.opentlc.com\"\n",
    "TGI_URL  = \"https://llama3-default.apps.cluster-jj67w.jj67w.sandbox1788.opentlc.com\"\n",
    "MODEL_ID = \"meta-llama/Meta-Llama-3-8B-Instruct\"\n",
    "PROMPT   = \"Explain quantum entanglement in one sentence.\"\n",
    "HEADERS  = {\"Content-Type\":\"application/json\"}\n",
    "\n",
    "def discover(url, is_chat=True):\n",
    "    attempts = [\n",
    "        (\"/v1/chat/completions\", {\n",
    "            \"model\": MODEL_ID,\n",
    "            \"messages\":[{\"role\":\"user\",\"content\":PROMPT}],\n",
    "            \"max_tokens\": 64,\n",
    "            \"stream\": False}),\n",
    "        (\"/v1/completions\", {\n",
    "            \"model\": MODEL_ID,\n",
    "            \"prompt\": PROMPT,\n",
    "            \"max_tokens\": 64,\n",
    "            \"stream\": False}),\n",
    "        (\"/generate\",{                       # raw vLLM\n",
    "            \"prompt\": PROMPT,\n",
    "            \"n\":1, \"max_tokens\":64})\n",
    "    ]\n",
    "    for path,payload in attempts:\n",
    "        try:\n",
    "            r=httpx.post(url+path,json=payload,headers=HEADERS,verify=False,timeout=20)\n",
    "            if r.status_code==200:\n",
    "                txt=(r.json()[\"choices\"][0].get(\"message\",{}).get(\"content\")\n",
    "                     or r.json()[\"choices\"][0].get(\"text\")\n",
    "                     or r.json().get(\"text\",\"\"))\n",
    "                print(f\"\\n🟢  {url}{path}\\n\"+textwrap.fill(txt,88))\n",
    "                return path,payload\n",
    "        except Exception: pass\n",
    "    raise RuntimeError(f\"No known completion path on {url}\")\n",
    "\n",
    "VLLM_PATH,VLLM_PAYLOAD = discover(VLLM_URL)\n",
    "TGI_PATH, TGI_PAYLOAD  = discover(TGI_URL)\n"
   ]
  },
  {
   "cell_type": "code",
   "execution_count": 16,
   "id": "e557f9a3-11d1-48f5-9c72-3b51ccc49a3c",
   "metadata": {},
   "outputs": [
    {
     "data": {
      "text/html": [
       "<div>\n",
       "<style scoped>\n",
       "    .dataframe tbody tr th:only-of-type {\n",
       "        vertical-align: middle;\n",
       "    }\n",
       "\n",
       "    .dataframe tbody tr th {\n",
       "        vertical-align: top;\n",
       "    }\n",
       "\n",
       "    .dataframe thead th {\n",
       "        text-align: right;\n",
       "    }\n",
       "</style>\n",
       "<table border=\"1\" class=\"dataframe\">\n",
       "  <thead>\n",
       "    <tr style=\"text-align: right;\">\n",
       "      <th></th>\n",
       "      <th>rps</th>\n",
       "      <th>tok_s</th>\n",
       "      <th>p50</th>\n",
       "      <th>p95</th>\n",
       "    </tr>\n",
       "    <tr>\n",
       "      <th>server</th>\n",
       "      <th></th>\n",
       "      <th></th>\n",
       "      <th></th>\n",
       "      <th></th>\n",
       "    </tr>\n",
       "  </thead>\n",
       "  <tbody>\n",
       "    <tr>\n",
       "      <th>vLLM</th>\n",
       "      <td>4.8</td>\n",
       "      <td>258.3</td>\n",
       "      <td>3522.0</td>\n",
       "      <td>3883.8</td>\n",
       "    </tr>\n",
       "    <tr>\n",
       "      <th>TGI</th>\n",
       "      <td>4.8</td>\n",
       "      <td>253.4</td>\n",
       "      <td>3619.4</td>\n",
       "      <td>4159.4</td>\n",
       "    </tr>\n",
       "  </tbody>\n",
       "</table>\n",
       "</div>"
      ],
      "text/plain": [
       "        rps  tok_s     p50     p95\n",
       "server                            \n",
       "vLLM    4.8  258.3  3522.0  3883.8\n",
       "TGI     4.8  253.4  3619.4  4159.4"
      ]
     },
     "execution_count": 16,
     "metadata": {},
     "output_type": "execute_result"
    }
   ],
   "source": [
    "import asyncio, time, statistics as st\n",
    "from tqdm.auto import tqdm\n",
    "import pandas as pd\n",
    "\n",
    "N_WORKERS = 16\n",
    "TEST_SECS = 30\n",
    "\n",
    "async def _worker(base,path,payload,bag):\n",
    "    async with httpx.AsyncClient(http2=True,verify=False,timeout=120) as c:\n",
    "        stop=time.time()+TEST_SECS\n",
    "        while time.time()<stop:\n",
    "            t0=time.perf_counter()\n",
    "            try:\n",
    "                r=await c.post(base+path,json=payload,headers=HEADERS)\n",
    "                dt=time.perf_counter()-t0\n",
    "                if r.status_code==200:\n",
    "                    tok=r.json().get(\"usage\",{}).get(\"completion_tokens\",0)\n",
    "                    bag.append((dt,tok))\n",
    "            except Exception: pass\n",
    "\n",
    "async def bench(name,base,path,payload):\n",
    "    bag=[]\n",
    "    await asyncio.gather(*[_worker(base,path,payload,bag) for _ in range(N_WORKERS)])\n",
    "    lats=[l for l,_ in bag]; toks=[t for _,t in bag]\n",
    "    return dict(server=name,\n",
    "                rps=round(len(lats)/TEST_SECS,1),\n",
    "                tok_s=round(sum(toks)/TEST_SECS,1),\n",
    "                p50=round(st.median(lats)*1000,1) if lats else None,\n",
    "                p95=round(sorted(lats)[int(.95*len(lats))-1]*1000,1) if lats else None)\n",
    "\n",
    "results=await asyncio.gather(\n",
    "    bench(\"vLLM\",VLLM_URL,VLLM_PATH,VLLM_PAYLOAD),\n",
    "    bench(\"TGI\", TGI_URL, TGI_PATH, TGI_PAYLOAD)\n",
    ")\n",
    "df=pd.DataFrame(results).set_index(\"server\")\n",
    "df\n"
   ]
  },
  {
   "cell_type": "code",
   "execution_count": 18,
   "id": "8da46ae3-6833-4bca-b40b-48f6bc44b3fe",
   "metadata": {},
   "outputs": [
    {
     "data": {
      "image/png": "[encoded data removed]",
      "text/plain": [
       "<Figure size 640x480 with 1 Axes>"
      ]
     },
     "metadata": {},
     "output_type": "display_data"
    }
   ],
   "source": [
    "import matplotlib.pyplot as plt\n",
    "plt.bar(df.index, df[\"rps\"])\n",
    "plt.ylabel(\"Requests per second\")\n",
    "plt.title(f\"{N_WORKERS} workers · {TEST_SECS}s · prompt=1 sentence\")\n",
    "plt.show()\n"
   ]
  },
  {
   "cell_type": "code",
   "execution_count": null,
   "id": "f3e65f7f-f712-4dbc-a7e9-a1e00242afce",
   "metadata": {},
   "outputs": [],
   "source": []
  },
  {
   "cell_type": "code",
   "execution_count": null,
   "id": "9fbf2cc2-e450-49a0-8028-36f8f3285447",
   "metadata": {},
   "outputs": [],
   "source": []
  },
  {
   "cell_type": "code",
   "execution_count": null,
   "id": "b9a5ac42-427e-4ef9-b1ff-6ff1e5cd5bf5",
   "metadata": {},
   "outputs": [],
   "source": []
  },
  {
   "cell_type": "code",
   "execution_count": null,
   "id": "e0430673-9b99-4703-89fa-6784339f9a52",
   "metadata": {},
   "outputs": [],
   "source": []
  }
 ],
 "metadata": {
  "kernelspec": {
   "display_name": "Python 3.11",
   "language": "python",
   "name": "python3"
  },
  "language_info": {
   "codemirror_mode": {
    "name": "ipython",
    "version": 3
   },
   "file_extension": ".py",
   "mimetype": "text/x-python",
   "name": "python",
   "nbconvert_exporter": "python",
   "pygments_lexer": "ipython3",
   "version": "3.11.9"
  }
 },
 "nbformat": 4,
 "nbformat_minor": 5
}
